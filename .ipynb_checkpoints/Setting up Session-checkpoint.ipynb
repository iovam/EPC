{
 "cells": [
  {
   "cell_type": "code",
   "execution_count": 54,
   "id": "87423b61-95cb-4134-870c-ec664f709e95",
   "metadata": {},
   "outputs": [],
   "source": [
    "def install_and_import(module):\n",
    "    import importlib\n",
    "    try:\n",
    "        print (f'Importing module: {module}')\n",
    "        importlib.import_module(module)\n",
    "    except ImportError:\n",
    "        import pip\n",
    "        print (f'Installing module: {module}')\n",
    "        pip.main(['install', module])\n",
    "    finally:\n",
    "        globals()[module] = importlib.import_module(module)"
   ]
  },
  {
   "cell_type": "code",
   "execution_count": 55,
   "id": "269af6fc-28e9-4018-a45e-17cb84abe277",
   "metadata": {},
   "outputs": [],
   "source": [
    "def import_modules(modules):\n",
    "    print (f'Importing modules...')\n",
    "    for module in modules:\n",
    "        install_and_import(module)\n"
   ]
  },
  {
   "cell_type": "code",
   "execution_count": 56,
   "id": "09c59396-81db-49d7-95bc-0ac8a7bba1d0",
   "metadata": {},
   "outputs": [],
   "source": [
    "def idpDataInit():\n",
    "    \n",
    "    '''Initialises the notebook and install | import required python libraries.\n",
    "            Parameters: \n",
    "                    None\n",
    "            Returns:\n",
    "                    None\n",
    "    '''\n",
    "    \n",
    "    print (f'Initialising...')\n",
    "    import_modules([\"jaydebeapi\",\"socket\",\"pandas\",\"json\",\"decimal\",\"JAVA_HOME\",\"numpy\",\"getpass\"])"
   ]
  },
  {
   "cell_type": "code",
   "execution_count": 57,
   "id": "6c95e820-b17d-45a0-a49a-f148bf1c955e",
   "metadata": {},
   "outputs": [],
   "source": [
    "def get_config():\n",
    "    with open('idpDataConfig.json') as config_file:\n",
    "        config = json.load(config_file)    \n",
    "    return config    \n"
   ]
  },
  {
   "cell_type": "code",
   "execution_count": 58,
   "id": "d7b3ccfe-7524-4b6c-bc75-b56fccb1c6cc",
   "metadata": {},
   "outputs": [],
   "source": [
    "def idp_get_connection_info(database):\n",
    "    \n",
    "    config = get_config()\n",
    "    \n",
    "    conn_info = {}\n",
    "    conn_info['denododriver_class'] = config['denododriver_class']\n",
    "    conn_info['denododriver_path']  = config['denododriver_path']\n",
    "    \n",
    "    denodoserver_database  = database    \n",
    "    \n",
    "    config = get_config()\n",
    "    denodoserver_name      = config['denodoserver_name']\n",
    "    denodoserver_jdbc_port = config['denodoserver_jdbc_port']\n",
    "    \n",
    "    client_hostname = socket.gethostname()\n",
    "    useragent = \"%s-%s\" % (jaydebeapi.__name__,client_hostname)\n",
    "    conn_uri = \"jdbc:vdb://%s:%s/%s?userAgent=%s\" % (denodoserver_name,denodoserver_jdbc_port,denodoserver_database,useragent)\n",
    "    conn_info['conn_uri']  = conn_uri\n",
    "    \n",
    "    return conn_info"
   ]
  },
  {
   "cell_type": "code",
   "execution_count": 59,
   "id": "0426ce4b-18f8-4c90-a5be-171175fbc170",
   "metadata": {},
   "outputs": [],
   "source": [
    "def map_datatypes(crsr):\n",
    "        \n",
    "    results = crsr.fetchall()\n",
    "    columns = [c[0] for c in crsr.description]\n",
    "    df_results = pandas.DataFrame.from_records(results, columns=columns)\n",
    "    \n",
    "    types_dict = {\n",
    "            int                                               :  pandas.Int64Dtype(),\n",
    "            decimal.Decimal                                   :  numpy.float,\n",
    "            jaydebeapi.DBAPITypeObject._mappings['DATE']      :  numpy.datetime64(),\n",
    "            jaydebeapi.DBAPITypeObject._mappings['TIMESTAMP'] :  numpy.datetime64(),\n",
    "            jaydebeapi.DBAPITypeObject._mappings['CHAR']      :  object,\n",
    "            jaydebeapi.DBAPITypeObject._mappings['INTEGER']   :  pandas.Int64Dtype(),\n",
    "            jaydebeapi.DBAPITypeObject._mappings['FLOAT']     :  numpy.float\n",
    "            }\n",
    "    \n",
    "    types = [types_dict[c[1]] for c in crsr.description]\n",
    "        \n",
    "    for c,tp in  zip(df_results.columns,types):\n",
    "        df_results[c] = df_results[c].astype(tp)\n",
    "            \n",
    "    return df_results"
   ]
  },
  {
   "cell_type": "code",
   "execution_count": 60,
   "id": "6cf39fd1-add0-4e02-a5d7-b900e4872448",
   "metadata": {},
   "outputs": [],
   "source": [
    "def idpDataConnect(username, database):\n",
    "    \n",
    "    '''Opens a connection to IDP's virtual database, returning a connection object.\n",
    "            Parameters:\n",
    "                    username (str): your work email address\n",
    "                    database (str): the name of the Virtual Database to connect to\n",
    "            Returns:\n",
    "                    conn : a connection object\n",
    "    '''  \n",
    "    \n",
    "    conn_info = idp_get_connection_info(database)\n",
    "    \n",
    "    conn = jaydebeapi.connect(conn_info['denododriver_class'],\n",
    "                              conn_info['conn_uri'],\n",
    "                              driver_args = {\"user\":username,\n",
    "                                             \"password\":getpass.getpass()},\n",
    "                              jars = conn_info['denododriver_path']\n",
    "                             )\n",
    "    \n",
    "    return conn\n"
   ]
  },
  {
   "cell_type": "code",
   "execution_count": 61,
   "id": "8cff6cf3-1f6e-4ac6-acae-909dba02c8f5",
   "metadata": {},
   "outputs": [],
   "source": [
    "def idpDataDesc(database,dataset,conn):\n",
    "\n",
    "    '''Describes the schema of a dataset within the virtual database, returning a pandas dataframe object.\n",
    "            Parameters:\n",
    "                    database (str): the name of the Virtual Database\n",
    "                    dataset (str): the name of the dataset to describe\n",
    "                    conn : a connection object\n",
    "            Returns:\n",
    "                    df_schema : a Pandas dataframe\n",
    "    '''\n",
    "    \n",
    "    df_schema = idpDataQuery(sql=\"SELECT column_name, column_type_name, column_type_length \\\n",
    "                                  FROM   CATALOG_METADATA_VIEWS() \\\n",
    "                                  WHERE  input_database_name = '\"+database+\"' \\\n",
    "                                  AND    input_view_name =  '\"+dataset+\"';\",\n",
    "                             conn=conn)\n",
    "    return df_schema\n"
   ]
  },
  {
   "cell_type": "code",
   "execution_count": 62,
   "id": "398d6ff0-7517-4c29-a695-f45a70015bab",
   "metadata": {},
   "outputs": [],
   "source": [
    "def idpDataQuery(sql,conn):\n",
    "\n",
    "    '''Executes a SQL query against the virtual database, returning a pandas dataframe object.\n",
    "            Parameters:\n",
    "                    sql (str): a valid SQL query\n",
    "                    conn : a connection object\n",
    "            Returns:\n",
    "                    df_results : a Pandas dataframe\n",
    "    '''\n",
    "    \n",
    "    cursor = conn.cursor()\n",
    "    cursor.execute(sql)\n",
    "    df_results = map_datatypes(cursor)\n",
    "    return df_results \n",
    "\n"
   ]
  },
  {
   "cell_type": "code",
   "execution_count": 63,
   "id": "a62fd1c2-0736-4313-a2c0-880828f4f5fa",
   "metadata": {},
   "outputs": [],
   "source": [
    "def idpDataDisconnect(conn):\n",
    "    \n",
    "    '''Closes an open connection to IDP's virtual database.\n",
    "            Parameters:\n",
    "                    conn : a connection object\n",
    "            Returns:\n",
    "                    None\n",
    "    '''\n",
    "    conn.close()"
   ]
  },
  {
   "cell_type": "code",
   "execution_count": 64,
   "id": "8587f5eb-04b2-4751-ae04-94bb5daf4848",
   "metadata": {},
   "outputs": [],
   "source": [
    "#Import modules\n",
    "import sys\n",
    "import os\n",
    "import pandas as pd"
   ]
  },
  {
   "cell_type": "code",
   "execution_count": 65,
   "id": "0489367e-7165-43c6-b61b-e4a0f9f82621",
   "metadata": {},
   "outputs": [
    {
     "name": "stdout",
     "output_type": "stream",
     "text": [
      "Initialising...\n",
      "Importing modules...\n",
      "Importing module: jaydebeapi\n",
      "Importing module: socket\n",
      "Importing module: pandas\n",
      "Importing module: json\n",
      "Importing module: decimal\n",
      "Importing module: numpy\n",
      "Importing module: getpass\n"
     ]
    }
   ],
   "source": [
    "#### Initialise the notebook, after opening or re-starting the kernel\n",
    "from idpData import idpDataInit\n",
    "idpDataInit()\n"
   ]
  },
  {
   "cell_type": "code",
   "execution_count": 66,
   "id": "ed13d098-6008-413a-9cc5-40b77fff7017",
   "metadata": {},
   "outputs": [
    {
     "name": "stdin",
     "output_type": "stream",
     "text": [
      " ················\n"
     ]
    }
   ],
   "source": [
    "#### Open a connection into the Virtual Database. NB Prompts for your Denodo password.\n",
    "from idpData import idpDataConnect\n",
    "\n",
    "conn = idpDataConnect(\"nikola.bowers\",\"ids\")\n"
   ]
  },
  {
   "cell_type": "code",
   "execution_count": 72,
   "id": "501a9cd9-e5bf-408a-aa15-3e07a975ab0c",
   "metadata": {},
   "outputs": [],
   "source": [
    "#### Query the virtual database, passing an SQL query and the conn (connection) object:\n",
    "##### NB Queries currently require columns to be double quoted (complete with an escape character `\\`) and column names are case sensitive.\n",
    "##### This is because the Denodo database has to run in UNICODE rather than RESTRICTED mode, a solution to improve this incovenience is underway.\n",
    "from idpData import idpDataQuery\n",
    "\n",
    "epc_std = idpDataQuery(sql=\"SELECT * FROM ids.bv_epc limit 10\",conn=conn)\n",
    "epc_std_georef = idpDataQuery(sql=\"SELECT * FROM ids.bv_epc_georef limit 10\",conn=conn)\n",
    "rdmf = idpDataQuery(sql=\"SELECT * FROM ids.bv_eeoh_rdmf limit 10\",conn=conn)"
   ]
  },
  {
   "cell_type": "code",
   "execution_count": 73,
   "id": "8156665e-528f-4f32-b97d-bdda9a25a1c4",
   "metadata": {},
   "outputs": [
    {
     "data": {
      "text/html": [
       "<div>\n",
       "<style scoped>\n",
       "    .dataframe tbody tr th:only-of-type {\n",
       "        vertical-align: middle;\n",
       "    }\n",
       "\n",
       "    .dataframe tbody tr th {\n",
       "        vertical-align: top;\n",
       "    }\n",
       "\n",
       "    .dataframe thead th {\n",
       "        text-align: right;\n",
       "    }\n",
       "</style>\n",
       "<table border=\"1\" class=\"dataframe\">\n",
       "  <thead>\n",
       "    <tr style=\"text-align: right;\">\n",
       "      <th></th>\n",
       "      <th>UARN</th>\n",
       "      <th>UPRN</th>\n",
       "      <th>COUNTRY_CODE</th>\n",
       "      <th>REGION_CODE</th>\n",
       "      <th>LA_CODE</th>\n",
       "      <th>MSOA_CODE</th>\n",
       "      <th>LSOA_CODE</th>\n",
       "    </tr>\n",
       "  </thead>\n",
       "  <tbody>\n",
       "    <tr>\n",
       "      <th>0</th>\n",
       "      <td>172558197</td>\n",
       "      <td>100100406019</td>\n",
       "      <td>W92000004</td>\n",
       "      <td>NULL</td>\n",
       "      <td>W06000011</td>\n",
       "      <td>W02000179</td>\n",
       "      <td>W01000777</td>\n",
       "    </tr>\n",
       "    <tr>\n",
       "      <th>1</th>\n",
       "      <td>181123204</td>\n",
       "      <td>100100470333</td>\n",
       "      <td>W92000004</td>\n",
       "      <td>NULL</td>\n",
       "      <td>W06000019</td>\n",
       "      <td>W02000320</td>\n",
       "      <td>W01001450</td>\n",
       "    </tr>\n",
       "    <tr>\n",
       "      <th>2</th>\n",
       "      <td>184028202</td>\n",
       "      <td>100100953986</td>\n",
       "      <td>W92000004</td>\n",
       "      <td>NULL</td>\n",
       "      <td>W06000003</td>\n",
       "      <td>W02000027</td>\n",
       "      <td>W01000132</td>\n",
       "    </tr>\n",
       "    <tr>\n",
       "      <th>3</th>\n",
       "      <td>203995193</td>\n",
       "      <td>10004873835</td>\n",
       "      <td>W92000004</td>\n",
       "      <td>NULL</td>\n",
       "      <td>W06000010</td>\n",
       "      <td>W02000144</td>\n",
       "      <td>W01000646</td>\n",
       "    </tr>\n",
       "    <tr>\n",
       "      <th>4</th>\n",
       "      <td>205091204</td>\n",
       "      <td>100100462447</td>\n",
       "      <td>W92000004</td>\n",
       "      <td>NULL</td>\n",
       "      <td>W06000019</td>\n",
       "      <td>W02000319</td>\n",
       "      <td>W01001463</td>\n",
       "    </tr>\n",
       "    <tr>\n",
       "      <th>5</th>\n",
       "      <td>209552206</td>\n",
       "      <td>100100947341</td>\n",
       "      <td>W92000004</td>\n",
       "      <td>NULL</td>\n",
       "      <td>W06000004</td>\n",
       "      <td>W02000045</td>\n",
       "      <td>W01000226</td>\n",
       "    </tr>\n",
       "    <tr>\n",
       "      <th>6</th>\n",
       "      <td>220578202</td>\n",
       "      <td>10013464772</td>\n",
       "      <td>W92000004</td>\n",
       "      <td>NULL</td>\n",
       "      <td>W06000001</td>\n",
       "      <td>W02000005</td>\n",
       "      <td>W01000035</td>\n",
       "    </tr>\n",
       "    <tr>\n",
       "      <th>7</th>\n",
       "      <td>17310193</td>\n",
       "      <td>100100159213</td>\n",
       "      <td>W92000004</td>\n",
       "      <td>NULL</td>\n",
       "      <td>W06000010</td>\n",
       "      <td>W02000151</td>\n",
       "      <td>W01000719</td>\n",
       "    </tr>\n",
       "    <tr>\n",
       "      <th>8</th>\n",
       "      <td>173432196</td>\n",
       "      <td>200002664583</td>\n",
       "      <td>W92000004</td>\n",
       "      <td>NULL</td>\n",
       "      <td>W06000013</td>\n",
       "      <td>W02000223</td>\n",
       "      <td>W01001057</td>\n",
       "    </tr>\n",
       "    <tr>\n",
       "      <th>9</th>\n",
       "      <td>18202197</td>\n",
       "      <td>10011727974</td>\n",
       "      <td>W92000004</td>\n",
       "      <td>NULL</td>\n",
       "      <td>W06000011</td>\n",
       "      <td>W02000197</td>\n",
       "      <td>W01000776</td>\n",
       "    </tr>\n",
       "  </tbody>\n",
       "</table>\n",
       "</div>"
      ],
      "text/plain": [
       "        UARN          UPRN COUNTRY_CODE REGION_CODE    LA_CODE  MSOA_CODE  \\\n",
       "0  172558197  100100406019    W92000004        NULL  W06000011  W02000179   \n",
       "1  181123204  100100470333    W92000004        NULL  W06000019  W02000320   \n",
       "2  184028202  100100953986    W92000004        NULL  W06000003  W02000027   \n",
       "3  203995193   10004873835    W92000004        NULL  W06000010  W02000144   \n",
       "4  205091204  100100462447    W92000004        NULL  W06000019  W02000319   \n",
       "5  209552206  100100947341    W92000004        NULL  W06000004  W02000045   \n",
       "6  220578202   10013464772    W92000004        NULL  W06000001  W02000005   \n",
       "7   17310193  100100159213    W92000004        NULL  W06000010  W02000151   \n",
       "8  173432196  200002664583    W92000004        NULL  W06000013  W02000223   \n",
       "9   18202197   10011727974    W92000004        NULL  W06000011  W02000197   \n",
       "\n",
       "   LSOA_CODE  \n",
       "0  W01000777  \n",
       "1  W01001450  \n",
       "2  W01000132  \n",
       "3  W01000646  \n",
       "4  W01001463  \n",
       "5  W01000226  \n",
       "6  W01000035  \n",
       "7  W01000719  \n",
       "8  W01001057  \n",
       "9  W01000776  "
      ]
     },
     "execution_count": 73,
     "metadata": {},
     "output_type": "execute_result"
    }
   ],
   "source": [
    "rdmf"
   ]
  },
  {
   "cell_type": "code",
   "execution_count": 53,
   "id": "a1a0438f-02cf-4f4a-b0ce-ee87a58cb67c",
   "metadata": {},
   "outputs": [
    {
     "ename": "NameError",
     "evalue": "name 'spark' is not defined",
     "output_type": "error",
     "traceback": [
      "\u001b[0;31m---------------------------------------------------------------------------\u001b[0m",
      "\u001b[0;31mNameError\u001b[0m                                 Traceback (most recent call last)",
      "\u001b[0;32m/tmp/ipykernel_4493/1371203907.py\u001b[0m in \u001b[0;36m<module>\u001b[0;34m\u001b[0m\n\u001b[1;32m      1\u001b[0m \u001b[0;31m# Set the database for standard EPC data\u001b[0m\u001b[0;34m\u001b[0m\u001b[0;34m\u001b[0m\u001b[0;34m\u001b[0m\u001b[0m\n\u001b[0;32m----> 2\u001b[0;31m \u001b[0mspark\u001b[0m\u001b[0;34m.\u001b[0m\u001b[0msql\u001b[0m\u001b[0;34m(\u001b[0m\u001b[0;34m\"USE ids\"\u001b[0m\u001b[0;34m)\u001b[0m\u001b[0;34m\u001b[0m\u001b[0;34m\u001b[0m\u001b[0m\n\u001b[0m\u001b[1;32m      3\u001b[0m \u001b[0;34m\u001b[0m\u001b[0m\n\u001b[1;32m      4\u001b[0m \u001b[0;31m# Reading EPC Data (without UPRN)\u001b[0m\u001b[0;34m\u001b[0m\u001b[0;34m\u001b[0m\u001b[0;34m\u001b[0m\u001b[0m\n\u001b[1;32m      5\u001b[0m \u001b[0mepc_std\u001b[0m \u001b[0;34m=\u001b[0m \u001b[0mspark\u001b[0m\u001b[0;34m.\u001b[0m\u001b[0mread\u001b[0m\u001b[0;34m.\u001b[0m\u001b[0mtable\u001b[0m\u001b[0;34m(\u001b[0m\u001b[0;34m\"bv_epc\"\u001b[0m\u001b[0;34m)\u001b[0m\u001b[0;34m\u001b[0m\u001b[0;34m\u001b[0m\u001b[0m\n",
      "\u001b[0;31mNameError\u001b[0m: name 'spark' is not defined"
     ]
    }
   ],
   "source": [
    "# Set the database for standard EPC data\n",
    "import numpy as np\n",
    "import pandas as pd\n",
    "import os\n",
    "import glob\n",
    "\n",
    "\n",
    "## Setting the directory where the data is\n",
    "os.chdir ('Z:\\Housing Analysis/Dwelling Stock Estimates/2012 to 2018/Raw Data')\n"
   ]
  },
  {
   "cell_type": "code",
   "execution_count": null,
   "id": "26ab152e-918e-4ea8-a461-7bd2ade2fd51",
   "metadata": {},
   "outputs": [],
   "source": []
  },
  {
   "cell_type": "code",
   "execution_count": 52,
   "id": "38e3750d-2453-4c2e-b627-743b8ceabbd5",
   "metadata": {},
   "outputs": [
    {
     "ename": "SyntaxError",
     "evalue": "invalid syntax (1443534963.py, line 1)",
     "output_type": "error",
     "traceback": [
      "\u001b[0;36m  File \u001b[0;32m\"/tmp/ipykernel_4493/1443534963.py\"\u001b[0;36m, line \u001b[0;32m1\u001b[0m\n\u001b[0;31m    epc_std <- http://localhost:9090/denodo-odata4-service/denodo-odata.svc/ids/bv_epc\u001b[0m\n\u001b[0m                     ^\u001b[0m\n\u001b[0;31mSyntaxError\u001b[0m\u001b[0;31m:\u001b[0m invalid syntax\n"
     ]
    }
   ],
   "source": [
    "epc_std <- http://localhost:9090/denodo-odata4-service/denodo-odata.svc/ids/bv_epc"
   ]
  },
  {
   "cell_type": "code",
   "execution_count": null,
   "id": "63fa812b-c9cd-40c3-a444-7089321ecae9",
   "metadata": {},
   "outputs": [],
   "source": [
    "nsul = spark.sql(\"SELECT * FROM national_statistics_uprn_lookup.nsul_jan_2022_gb_std\")\n",
    "                   \n",
    "df1"
   ]
  },
  {
   "cell_type": "code",
   "execution_count": null,
   "id": "b9f1293e-a702-4582-8917-4f3fdfb0acbf",
   "metadata": {},
   "outputs": [],
   "source": [
    "#### Close the connection at the end of your session,  passing in the conn onject:\n",
    "from idpData import idpDataDisconnect\n",
    "\n",
    "idpDataDisconnect(conn)\n"
   ]
  }
 ],
 "metadata": {
  "environment": {
   "kernel": "python3",
   "name": "common-cpu.m91",
   "type": "gcloud",
   "uri": "gcr.io/deeplearning-platform-release/base-cpu:m91"
  },
  "kernelspec": {
   "display_name": "Python 3",
   "language": "python",
   "name": "python3"
  },
  "language_info": {
   "codemirror_mode": {
    "name": "ipython",
    "version": 3
   },
   "file_extension": ".py",
   "mimetype": "text/x-python",
   "name": "python",
   "nbconvert_exporter": "python",
   "pygments_lexer": "ipython3",
   "version": "3.7.12"
  }
 },
 "nbformat": 4,
 "nbformat_minor": 5
}
