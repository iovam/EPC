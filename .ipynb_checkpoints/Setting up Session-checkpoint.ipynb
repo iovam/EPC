{
 "cells": [
  {
   "cell_type": "code",
   "execution_count": 176,
   "id": "87423b61-95cb-4134-870c-ec664f709e95",
   "metadata": {},
   "outputs": [],
   "source": [
    "def install_and_import(module):\n",
    "    import importlib\n",
    "    try:\n",
    "        print (f'Importing module: {module}')\n",
    "        importlib.import_module(module)\n",
    "    except ImportError:\n",
    "        import pip\n",
    "        print (f'Installing module: {module}')\n",
    "        pip.main(['install', module])\n",
    "    finally:\n",
    "        globals()[module] = importlib.import_module(module)"
   ]
  },
  {
   "cell_type": "code",
   "execution_count": 177,
   "id": "269af6fc-28e9-4018-a45e-17cb84abe277",
   "metadata": {},
   "outputs": [],
   "source": [
    "def import_modules(modules):\n",
    "    print (f'Importing modules...')\n",
    "    for module in modules:\n",
    "        install_and_import(module)\n"
   ]
  },
  {
   "cell_type": "code",
   "execution_count": 178,
   "id": "09c59396-81db-49d7-95bc-0ac8a7bba1d0",
   "metadata": {},
   "outputs": [],
   "source": [
    "def idpDataInit():\n",
    "    \n",
    "    '''Initialises the notebook and install | import required python libraries.\n",
    "            Parameters: \n",
    "                    None\n",
    "            Returns:\n",
    "                    None\n",
    "    '''\n",
    "    \n",
    "    print (f'Initialising...')\n",
    "    import_modules([\"jaydebeapi\",\"socket\",\"pandas\",\"json\",\"decimal\",\"JAVA_HOME\",\"numpy\",\"getpass\"])"
   ]
  },
  {
   "cell_type": "code",
   "execution_count": 179,
   "id": "6c95e820-b17d-45a0-a49a-f148bf1c955e",
   "metadata": {},
   "outputs": [],
   "source": [
    "def get_config():\n",
    "    with open('idpDataConfig.json') as config_file:\n",
    "        config = json.load(config_file)    \n",
    "    return config    \n"
   ]
  },
  {
   "cell_type": "code",
   "execution_count": 180,
   "id": "d7b3ccfe-7524-4b6c-bc75-b56fccb1c6cc",
   "metadata": {},
   "outputs": [],
   "source": [
    "def idp_get_connection_info(database):\n",
    "    \n",
    "    config = get_config()\n",
    "    \n",
    "    conn_info = {}\n",
    "    conn_info['denododriver_class'] = config['denododriver_class']\n",
    "    conn_info['denododriver_path']  = config['denododriver_path']\n",
    "    \n",
    "    denodoserver_database  = database    \n",
    "    \n",
    "    config = get_config()\n",
    "    denodoserver_name      = config['denodoserver_name']\n",
    "    denodoserver_jdbc_port = config['denodoserver_jdbc_port']\n",
    "    \n",
    "    client_hostname = socket.gethostname()\n",
    "    useragent = \"%s-%s\" % (jaydebeapi.__name__,client_hostname)\n",
    "    conn_uri = \"jdbc:vdb://%s:%s/%s?userAgent=%s\" % (denodoserver_name,denodoserver_jdbc_port,denodoserver_database,useragent)\n",
    "    conn_info['conn_uri']  = conn_uri\n",
    "    \n",
    "    return conn_info"
   ]
  },
  {
   "cell_type": "code",
   "execution_count": 181,
   "id": "0426ce4b-18f8-4c90-a5be-171175fbc170",
   "metadata": {},
   "outputs": [],
   "source": [
    "def map_datatypes(crsr):\n",
    "        \n",
    "    results = crsr.fetchall()\n",
    "    columns = [c[0] for c in crsr.description]\n",
    "    df_results = pandas.DataFrame.from_records(results, columns=columns)\n",
    "    \n",
    "    types_dict = {\n",
    "            int                                               :  pandas.Int64Dtype(),\n",
    "            decimal.Decimal                                   :  numpy.float,\n",
    "            jaydebeapi.DBAPITypeObject._mappings['DATE']      :  numpy.datetime64(),\n",
    "            jaydebeapi.DBAPITypeObject._mappings['TIMESTAMP'] :  numpy.datetime64(),\n",
    "            jaydebeapi.DBAPITypeObject._mappings['CHAR']      :  object,\n",
    "            jaydebeapi.DBAPITypeObject._mappings['INTEGER']   :  pandas.Int64Dtype(),\n",
    "            jaydebeapi.DBAPITypeObject._mappings['FLOAT']     :  numpy.float\n",
    "            }\n",
    "    \n",
    "    types = [types_dict[c[1]] for c in crsr.description]\n",
    "        \n",
    "    for c,tp in  zip(df_results.columns,types):\n",
    "        df_results[c] = df_results[c].astype(tp)\n",
    "            \n",
    "    return df_results"
   ]
  },
  {
   "cell_type": "code",
   "execution_count": 182,
   "id": "6cf39fd1-add0-4e02-a5d7-b900e4872448",
   "metadata": {},
   "outputs": [],
   "source": [
    "def idpDataConnect(username, database):\n",
    "    \n",
    "    '''Opens a connection to IDP's virtual database, returning a connection object.\n",
    "            Parameters:\n",
    "                    username (str): your work email address\n",
    "                    database (str): the name of the Virtual Database to connect to\n",
    "            Returns:\n",
    "                    conn : a connection object\n",
    "    '''  \n",
    "    \n",
    "    conn_info = idp_get_connection_info(database)\n",
    "    \n",
    "    conn = jaydebeapi.connect(conn_info['denododriver_class'],\n",
    "                              conn_info['conn_uri'],\n",
    "                              driver_args = {\"user\":username,\n",
    "                                             \"password\":getpass.getpass()},\n",
    "                              jars = conn_info['denododriver_path']\n",
    "                             )\n",
    "    \n",
    "    return conn\n"
   ]
  },
  {
   "cell_type": "code",
   "execution_count": 183,
   "id": "8cff6cf3-1f6e-4ac6-acae-909dba02c8f5",
   "metadata": {},
   "outputs": [],
   "source": [
    "def idpDataDesc(database,dataset,conn):\n",
    "\n",
    "    '''Describes the schema of a dataset within the virtual database, returning a pandas dataframe object.\n",
    "            Parameters:\n",
    "                    database (str): the name of the Virtual Database\n",
    "                    dataset (str): the name of the dataset to describe\n",
    "                    conn : a connection object\n",
    "            Returns:\n",
    "                    df_schema : a Pandas dataframe\n",
    "    '''\n",
    "    \n",
    "    df_schema = idpDataQuery(sql=\"SELECT column_name, column_type_name, column_type_length \\\n",
    "                                  FROM   CATALOG_METADATA_VIEWS() \\\n",
    "                                  WHERE  input_database_name = '\"+database+\"' \\\n",
    "                                  AND    input_view_name =  '\"+dataset+\"';\",\n",
    "                             conn=conn)\n",
    "    return df_schema\n"
   ]
  },
  {
   "cell_type": "code",
   "execution_count": 184,
   "id": "398d6ff0-7517-4c29-a695-f45a70015bab",
   "metadata": {},
   "outputs": [],
   "source": [
    "def idpDataQuery(sql,conn):\n",
    "\n",
    "    '''Executes a SQL query against the virtual database, returning a pandas dataframe object.\n",
    "            Parameters:\n",
    "                    sql (str): a valid SQL query\n",
    "                    conn : a connection object\n",
    "            Returns:\n",
    "                    df_results : a Pandas dataframe\n",
    "    '''\n",
    "    \n",
    "    cursor = conn.cursor()\n",
    "    cursor.execute(sql)\n",
    "    df_results = map_datatypes(cursor)\n",
    "    return df_results \n",
    "\n"
   ]
  },
  {
   "cell_type": "code",
   "execution_count": 185,
   "id": "a62fd1c2-0736-4313-a2c0-880828f4f5fa",
   "metadata": {},
   "outputs": [],
   "source": [
    "def idpDataDisconnect(conn):\n",
    "    \n",
    "    '''Closes an open connection to IDP's virtual database.\n",
    "            Parameters:\n",
    "                    conn : a connection object\n",
    "            Returns:\n",
    "                    None\n",
    "    '''\n",
    "    conn.close()"
   ]
  },
  {
   "cell_type": "code",
   "execution_count": 165,
   "id": "8e6af015-cf97-4b08-a52c-d85714da569e",
   "metadata": {},
   "outputs": [
    {
     "ename": "SyntaxError",
     "evalue": "invalid syntax (285895791.py, line 2)",
     "output_type": "error",
     "traceback": [
      "\u001b[0;36m  File \u001b[0;32m\"/tmp/ipykernel_4493/285895791.py\"\u001b[0;36m, line \u001b[0;32m2\u001b[0m\n\u001b[0;31m    pip install findspark\u001b[0m\n\u001b[0m              ^\u001b[0m\n\u001b[0;31mSyntaxError\u001b[0m\u001b[0;31m:\u001b[0m invalid syntax\n"
     ]
    }
   ],
   "source": [
    "## May need to run in Terminal for the first time - then this code isnt needed again\n",
    "pip install findspark\n",
    "pip install pyspark"
   ]
  },
  {
   "cell_type": "code",
   "execution_count": 196,
   "id": "8587f5eb-04b2-4751-ae04-94bb5daf4848",
   "metadata": {},
   "outputs": [],
   "source": [
    "#Import modules\n",
    "import sys\n",
    "import os\n",
    "import pandas as pd\n",
    "import findspark\n",
    "from pyspark.sql import SparkSession\n",
    "import pyspark.sql.functions as F\n",
    "import os, IPython\n",
    "import pyspark\n",
    "from pyspark.sql import *\n",
    "import pyspark.sql.functions as f\n",
    "from pyspark.sql.types import IntegerType, DoubleType\n",
    "import numpy as np\n",
    "import pandas as pd\n",
    "from itertools import chain\n",
    "from pyspark import __version__ as current_pyspark_version"
   ]
  },
  {
   "cell_type": "code",
   "execution_count": 197,
   "id": "0489367e-7165-43c6-b61b-e4a0f9f82621",
   "metadata": {},
   "outputs": [
    {
     "name": "stdout",
     "output_type": "stream",
     "text": [
      "Initialising...\n",
      "Importing modules...\n",
      "Importing module: jaydebeapi\n",
      "Importing module: socket\n",
      "Importing module: pandas\n",
      "Importing module: json\n",
      "Importing module: decimal\n",
      "Importing module: numpy\n",
      "Importing module: getpass\n"
     ]
    }
   ],
   "source": [
    "#### Initialise the notebook, after opening or re-starting the kernel\n",
    "from idpData import idpDataInit\n",
    "idpDataInit()\n"
   ]
  },
  {
   "cell_type": "code",
   "execution_count": 194,
   "id": "ed13d098-6008-413a-9cc5-40b77fff7017",
   "metadata": {},
   "outputs": [
    {
     "name": "stdin",
     "output_type": "stream",
     "text": [
      " ················\n"
     ]
    }
   ],
   "source": [
    "#### Open a connection into the Virtual Database. NB Prompts for your Denodo password.\n",
    "from idpData import idpDataConnect\n",
    "\n",
    "conn = idpDataConnect(\"nikola.bowers\",\"ids\")\n"
   ]
  },
  {
   "cell_type": "code",
   "execution_count": null,
   "id": "8f365cb6-5a40-409b-a283-9f21642fe8c0",
   "metadata": {},
   "outputs": [],
   "source": []
  },
  {
   "cell_type": "code",
   "execution_count": 199,
   "id": "32954f3a-d946-4ede-a8d4-529ea2a82fac",
   "metadata": {},
   "outputs": [],
   "source": [
    "# ------------------------------------------------------------------------------------\n",
    "# ------------------------------------------------------------------------------------\n",
    "## Configure the Spark Session\n",
    "# ------------------------------------------------------------------------------------\n",
    "# ------------------------------------------------------------------------------------\n",
    "\n",
    "spark = (\n",
    "    SparkSession.builder.appName('epc')\n",
    "    .config(\"spark.executor.memory\", \"1500m\")\n",
    "    .config(\"spark.executor.cores\", 2)\n",
    "    .config(\"spark.dynamicAllocation.enabled\", 'true')\n",
    "    .config('spark.dynamicAllocation.maxExecutors', 4)\n",
    "    .config('spark.shuffle.service.enabled','true')\n",
    "    .config('spark.ui.showConsoleProgress', 'false')\n",
    "    .getOrCreate()\n",
    ")\n",
    "\n",
    "import pandas as pd\n",
    "pd.set_option(\"display.html.table_schema\", True)"
   ]
  },
  {
   "cell_type": "code",
   "execution_count": 202,
   "id": "9d76f2e6-48a1-49dc-b631-6039389e6067",
   "metadata": {},
   "outputs": [
    {
     "ename": "NameError",
     "evalue": "name 'denododriver_path' is not defined",
     "output_type": "error",
     "traceback": [
      "\u001b[0;31m---------------------------------------------------------------------------\u001b[0m",
      "\u001b[0;31mNameError\u001b[0m                                 Traceback (most recent call last)",
      "\u001b[0;32m/tmp/ipykernel_4493/3737963486.py\u001b[0m in \u001b[0;36m<module>\u001b[0;34m\u001b[0m\n\u001b[0;32m----> 1\u001b[0;31m \u001b[0mepc_std\u001b[0m \u001b[0;34m=\u001b[0m \u001b[0midpDataDesc\u001b[0m\u001b[0;34m(\u001b[0m\u001b[0mdenododriver_path\u001b[0m\u001b[0;34m.\u001b[0m\u001b[0mids\u001b[0m\u001b[0;34m,\u001b[0m \u001b[0mbv_epc\u001b[0m\u001b[0;34m,\u001b[0m \u001b[0mconn\u001b[0m\u001b[0;34m)\u001b[0m\u001b[0;34m\u001b[0m\u001b[0;34m\u001b[0m\u001b[0m\n\u001b[0m",
      "\u001b[0;31mNameError\u001b[0m: name 'denododriver_path' is not defined"
     ]
    }
   ],
   "source": [
    "epc_std = idpDataDesc(ids, bv_epc, conn)"
   ]
  },
  {
   "cell_type": "code",
   "execution_count": 119,
   "id": "1c8c3653-565a-4863-b4af-f292bc340c61",
   "metadata": {},
   "outputs": [
    {
     "name": "stdout",
     "output_type": "stream",
     "text": [
      "22/06/23 09:54:43 WARN ObjectStore: Failed to get database ids, returning NoSuchObjectException\n"
     ]
    },
    {
     "ename": "AnalysisException",
     "evalue": "Database 'ids' not found",
     "output_type": "error",
     "traceback": [
      "\u001b[0;31m---------------------------------------------------------------------------\u001b[0m",
      "\u001b[0;31mAnalysisException\u001b[0m                         Traceback (most recent call last)",
      "\u001b[0;32m/tmp/ipykernel_4493/2135586206.py\u001b[0m in \u001b[0;36m<module>\u001b[0;34m\u001b[0m\n\u001b[0;32m----> 1\u001b[0;31m \u001b[0mspark\u001b[0m\u001b[0;34m.\u001b[0m\u001b[0msql\u001b[0m\u001b[0;34m(\u001b[0m\u001b[0;34m\"USE ids\"\u001b[0m\u001b[0;34m)\u001b[0m\u001b[0;34m\u001b[0m\u001b[0;34m\u001b[0m\u001b[0m\n\u001b[0m",
      "\u001b[0;32m/opt/conda/lib/python3.7/site-packages/pyspark/sql/session.py\u001b[0m in \u001b[0;36msql\u001b[0;34m(self, sqlQuery, **kwargs)\u001b[0m\n\u001b[1;32m   1032\u001b[0m             \u001b[0msqlQuery\u001b[0m \u001b[0;34m=\u001b[0m \u001b[0mformatter\u001b[0m\u001b[0;34m.\u001b[0m\u001b[0mformat\u001b[0m\u001b[0;34m(\u001b[0m\u001b[0msqlQuery\u001b[0m\u001b[0;34m,\u001b[0m \u001b[0;34m**\u001b[0m\u001b[0mkwargs\u001b[0m\u001b[0;34m)\u001b[0m\u001b[0;34m\u001b[0m\u001b[0;34m\u001b[0m\u001b[0m\n\u001b[1;32m   1033\u001b[0m         \u001b[0;32mtry\u001b[0m\u001b[0;34m:\u001b[0m\u001b[0;34m\u001b[0m\u001b[0;34m\u001b[0m\u001b[0m\n\u001b[0;32m-> 1034\u001b[0;31m             \u001b[0;32mreturn\u001b[0m \u001b[0mDataFrame\u001b[0m\u001b[0;34m(\u001b[0m\u001b[0mself\u001b[0m\u001b[0;34m.\u001b[0m\u001b[0m_jsparkSession\u001b[0m\u001b[0;34m.\u001b[0m\u001b[0msql\u001b[0m\u001b[0;34m(\u001b[0m\u001b[0msqlQuery\u001b[0m\u001b[0;34m)\u001b[0m\u001b[0;34m,\u001b[0m \u001b[0mself\u001b[0m\u001b[0;34m)\u001b[0m\u001b[0;34m\u001b[0m\u001b[0;34m\u001b[0m\u001b[0m\n\u001b[0m\u001b[1;32m   1035\u001b[0m         \u001b[0;32mfinally\u001b[0m\u001b[0;34m:\u001b[0m\u001b[0;34m\u001b[0m\u001b[0;34m\u001b[0m\u001b[0m\n\u001b[1;32m   1036\u001b[0m             \u001b[0;32mif\u001b[0m \u001b[0mlen\u001b[0m\u001b[0;34m(\u001b[0m\u001b[0mkwargs\u001b[0m\u001b[0;34m)\u001b[0m \u001b[0;34m>\u001b[0m \u001b[0;36m0\u001b[0m\u001b[0;34m:\u001b[0m\u001b[0;34m\u001b[0m\u001b[0;34m\u001b[0m\u001b[0m\n",
      "\u001b[0;32m/opt/conda/lib/python3.7/site-packages/py4j/java_gateway.py\u001b[0m in \u001b[0;36m__call__\u001b[0;34m(self, *args)\u001b[0m\n\u001b[1;32m   1320\u001b[0m         \u001b[0manswer\u001b[0m \u001b[0;34m=\u001b[0m \u001b[0mself\u001b[0m\u001b[0;34m.\u001b[0m\u001b[0mgateway_client\u001b[0m\u001b[0;34m.\u001b[0m\u001b[0msend_command\u001b[0m\u001b[0;34m(\u001b[0m\u001b[0mcommand\u001b[0m\u001b[0;34m)\u001b[0m\u001b[0;34m\u001b[0m\u001b[0;34m\u001b[0m\u001b[0m\n\u001b[1;32m   1321\u001b[0m         return_value = get_return_value(\n\u001b[0;32m-> 1322\u001b[0;31m             answer, self.gateway_client, self.target_id, self.name)\n\u001b[0m\u001b[1;32m   1323\u001b[0m \u001b[0;34m\u001b[0m\u001b[0m\n\u001b[1;32m   1324\u001b[0m         \u001b[0;32mfor\u001b[0m \u001b[0mtemp_arg\u001b[0m \u001b[0;32min\u001b[0m \u001b[0mtemp_args\u001b[0m\u001b[0;34m:\u001b[0m\u001b[0;34m\u001b[0m\u001b[0;34m\u001b[0m\u001b[0m\n",
      "\u001b[0;32m/opt/conda/lib/python3.7/site-packages/pyspark/sql/utils.py\u001b[0m in \u001b[0;36mdeco\u001b[0;34m(*a, **kw)\u001b[0m\n\u001b[1;32m    194\u001b[0m                 \u001b[0;31m# Hide where the exception came from that shows a non-Pythonic\u001b[0m\u001b[0;34m\u001b[0m\u001b[0;34m\u001b[0m\u001b[0;34m\u001b[0m\u001b[0m\n\u001b[1;32m    195\u001b[0m                 \u001b[0;31m# JVM exception message.\u001b[0m\u001b[0;34m\u001b[0m\u001b[0;34m\u001b[0m\u001b[0;34m\u001b[0m\u001b[0m\n\u001b[0;32m--> 196\u001b[0;31m                 \u001b[0;32mraise\u001b[0m \u001b[0mconverted\u001b[0m \u001b[0;32mfrom\u001b[0m \u001b[0;32mNone\u001b[0m\u001b[0;34m\u001b[0m\u001b[0;34m\u001b[0m\u001b[0m\n\u001b[0m\u001b[1;32m    197\u001b[0m             \u001b[0;32melse\u001b[0m\u001b[0;34m:\u001b[0m\u001b[0;34m\u001b[0m\u001b[0;34m\u001b[0m\u001b[0m\n\u001b[1;32m    198\u001b[0m                 \u001b[0;32mraise\u001b[0m\u001b[0;34m\u001b[0m\u001b[0;34m\u001b[0m\u001b[0m\n",
      "\u001b[0;31mAnalysisException\u001b[0m: Database 'ids' not found"
     ]
    }
   ],
   "source": [
    "spark.sql(\"USE ids\")"
   ]
  },
  {
   "cell_type": "code",
   "execution_count": 136,
   "id": "de77dab2-cce7-4414-b1f2-57fa35f9d27b",
   "metadata": {},
   "outputs": [
    {
     "ename": "TypeError",
     "evalue": "'DataFrameReader' object is not callable",
     "output_type": "error",
     "traceback": [
      "\u001b[0;31m---------------------------------------------------------------------------\u001b[0m",
      "\u001b[0;31mTypeError\u001b[0m                                 Traceback (most recent call last)",
      "\u001b[0;32m/tmp/ipykernel_4493/1185656525.py\u001b[0m in \u001b[0;36m<module>\u001b[0;34m\u001b[0m\n\u001b[0;32m----> 1\u001b[0;31m \u001b[0mepc_std\u001b[0m \u001b[0;34m=\u001b[0m \u001b[0mspark\u001b[0m\u001b[0;34m.\u001b[0m\u001b[0mread\u001b[0m\u001b[0;34m(\u001b[0m\u001b[0;34m'http://localhost:9090/denodo-odata4-service/denodo-odata.svc/ids/bv_epc'\u001b[0m\u001b[0;34m)\u001b[0m\u001b[0;34m\u001b[0m\u001b[0;34m\u001b[0m\u001b[0m\n\u001b[0m",
      "\u001b[0;31mTypeError\u001b[0m: 'DataFrameReader' object is not callable"
     ]
    }
   ],
   "source": [
    "epc_std = spark.read('http://localhost:9090/denodo-odata4-service/denodo-odata.svc/ids/bv_epc')\n"
   ]
  },
  {
   "cell_type": "code",
   "execution_count": null,
   "id": "0b250850-e4af-4a0d-bd1e-4de99cf1106d",
   "metadata": {},
   "outputs": [],
   "source": [
    "# Reading EPC Data from Denodo\n",
    "epc_std = spark.read.table(\"bv_epc\")"
   ]
  },
  {
   "cell_type": "code",
   "execution_count": null,
   "id": "57834c35-262d-4b47-b6fa-8b4f30a33bb5",
   "metadata": {},
   "outputs": [],
   "source": []
  },
  {
   "cell_type": "code",
   "execution_count": 87,
   "id": "501a9cd9-e5bf-408a-aa15-3e07a975ab0c",
   "metadata": {},
   "outputs": [],
   "source": [
    "#### Query the virtual database, passing an SQL query and the conn (connection) object:\n",
    "##### NB Queries currently require columns to be double quoted (complete with an escape character `\\`) and column names are case sensitive.\n",
    "##### This is because the Denodo database has to run in UNICODE rather than RESTRICTED mode, a solution to improve this incovenience is underway.\n",
    "from idpData import idpDataQuery\n",
    "\n",
    "epc_std = idpDataQuery(sql=\"SELECT * FROM ids.bv_epc limit 10\",conn=conn)\n",
    "epc_std_georef = idpDataQuery(sql=\"SELECT * FROM ids.bv_epc_georef limit 10\",conn=conn)\n",
    "rdmf = idpDataQuery(sql=\"SELECT * FROM ids.bv_eeoh_rdmf limit 10\",conn=conn)"
   ]
  },
  {
   "cell_type": "code",
   "execution_count": 88,
   "id": "8156665e-528f-4f32-b97d-bdda9a25a1c4",
   "metadata": {},
   "outputs": [
    {
     "data": {
      "text/html": [
       "<div>\n",
       "<style scoped>\n",
       "    .dataframe tbody tr th:only-of-type {\n",
       "        vertical-align: middle;\n",
       "    }\n",
       "\n",
       "    .dataframe tbody tr th {\n",
       "        vertical-align: top;\n",
       "    }\n",
       "\n",
       "    .dataframe thead th {\n",
       "        text-align: right;\n",
       "    }\n",
       "</style>\n",
       "<table border=\"1\" class=\"dataframe\">\n",
       "  <thead>\n",
       "    <tr style=\"text-align: right;\">\n",
       "      <th></th>\n",
       "      <th>UARN</th>\n",
       "      <th>UPRN</th>\n",
       "      <th>COUNTRY_CODE</th>\n",
       "      <th>REGION_CODE</th>\n",
       "      <th>LA_CODE</th>\n",
       "      <th>MSOA_CODE</th>\n",
       "      <th>LSOA_CODE</th>\n",
       "    </tr>\n",
       "  </thead>\n",
       "  <tbody>\n",
       "    <tr>\n",
       "      <th>0</th>\n",
       "      <td>32232204</td>\n",
       "      <td>100100784836</td>\n",
       "      <td>W92000004</td>\n",
       "      <td>NULL</td>\n",
       "      <td>W06000020</td>\n",
       "      <td>W02000332</td>\n",
       "      <td>W01001526</td>\n",
       "    </tr>\n",
       "    <tr>\n",
       "      <th>1</th>\n",
       "      <td>333694195</td>\n",
       "      <td>10011741377</td>\n",
       "      <td>W92000004</td>\n",
       "      <td>NULL</td>\n",
       "      <td>W06000023</td>\n",
       "      <td>W02000107</td>\n",
       "      <td>W01000464</td>\n",
       "    </tr>\n",
       "    <tr>\n",
       "      <th>2</th>\n",
       "      <td>335670195</td>\n",
       "      <td>10011790829</td>\n",
       "      <td>W92000004</td>\n",
       "      <td>NULL</td>\n",
       "      <td>W06000023</td>\n",
       "      <td>W02000416</td>\n",
       "      <td>W01000505</td>\n",
       "    </tr>\n",
       "    <tr>\n",
       "      <th>3</th>\n",
       "      <td>356297204</td>\n",
       "      <td>100100269803</td>\n",
       "      <td>W92000004</td>\n",
       "      <td>NULL</td>\n",
       "      <td>W06000021</td>\n",
       "      <td>W02000338</td>\n",
       "      <td>W01001564</td>\n",
       "    </tr>\n",
       "    <tr>\n",
       "      <th>4</th>\n",
       "      <td>360706000</td>\n",
       "      <td>10013701577</td>\n",
       "      <td>W92000004</td>\n",
       "      <td>NULL</td>\n",
       "      <td>W06000005</td>\n",
       "      <td>W02000067</td>\n",
       "      <td>W01000282</td>\n",
       "    </tr>\n",
       "    <tr>\n",
       "      <th>5</th>\n",
       "      <td>36838202</td>\n",
       "      <td>200003173020</td>\n",
       "      <td>W92000004</td>\n",
       "      <td>NULL</td>\n",
       "      <td>W06000002</td>\n",
       "      <td>W02000012</td>\n",
       "      <td>W01000096</td>\n",
       "    </tr>\n",
       "    <tr>\n",
       "      <th>6</th>\n",
       "      <td>36866202</td>\n",
       "      <td>10070366296</td>\n",
       "      <td>W92000004</td>\n",
       "      <td>NULL</td>\n",
       "      <td>W06000002</td>\n",
       "      <td>W02000012</td>\n",
       "      <td>W01000097</td>\n",
       "    </tr>\n",
       "    <tr>\n",
       "      <th>7</th>\n",
       "      <td>38301204</td>\n",
       "      <td>100100650276</td>\n",
       "      <td>W92000004</td>\n",
       "      <td>NULL</td>\n",
       "      <td>W06000022</td>\n",
       "      <td>W02000354</td>\n",
       "      <td>W01001608</td>\n",
       "    </tr>\n",
       "    <tr>\n",
       "      <th>8</th>\n",
       "      <td>39986196</td>\n",
       "      <td>100100502901</td>\n",
       "      <td>W92000004</td>\n",
       "      <td>NULL</td>\n",
       "      <td>W06000013</td>\n",
       "      <td>W02000219</td>\n",
       "      <td>W01001014</td>\n",
       "    </tr>\n",
       "    <tr>\n",
       "      <th>9</th>\n",
       "      <td>40049196</td>\n",
       "      <td>100100503219</td>\n",
       "      <td>W92000004</td>\n",
       "      <td>NULL</td>\n",
       "      <td>W06000013</td>\n",
       "      <td>W02000219</td>\n",
       "      <td>W01001017</td>\n",
       "    </tr>\n",
       "  </tbody>\n",
       "</table>\n",
       "</div>"
      ],
      "text/plain": [
       "        UARN          UPRN COUNTRY_CODE REGION_CODE    LA_CODE  MSOA_CODE  \\\n",
       "0   32232204  100100784836    W92000004        NULL  W06000020  W02000332   \n",
       "1  333694195   10011741377    W92000004        NULL  W06000023  W02000107   \n",
       "2  335670195   10011790829    W92000004        NULL  W06000023  W02000416   \n",
       "3  356297204  100100269803    W92000004        NULL  W06000021  W02000338   \n",
       "4  360706000   10013701577    W92000004        NULL  W06000005  W02000067   \n",
       "5   36838202  200003173020    W92000004        NULL  W06000002  W02000012   \n",
       "6   36866202   10070366296    W92000004        NULL  W06000002  W02000012   \n",
       "7   38301204  100100650276    W92000004        NULL  W06000022  W02000354   \n",
       "8   39986196  100100502901    W92000004        NULL  W06000013  W02000219   \n",
       "9   40049196  100100503219    W92000004        NULL  W06000013  W02000219   \n",
       "\n",
       "   LSOA_CODE  \n",
       "0  W01001526  \n",
       "1  W01000464  \n",
       "2  W01000505  \n",
       "3  W01001564  \n",
       "4  W01000282  \n",
       "5  W01000096  \n",
       "6  W01000097  \n",
       "7  W01001608  \n",
       "8  W01001014  \n",
       "9  W01001017  "
      ]
     },
     "execution_count": 88,
     "metadata": {},
     "output_type": "execute_result"
    }
   ],
   "source": [
    "rdmf"
   ]
  },
  {
   "cell_type": "code",
   "execution_count": 53,
   "id": "a1a0438f-02cf-4f4a-b0ce-ee87a58cb67c",
   "metadata": {},
   "outputs": [
    {
     "ename": "NameError",
     "evalue": "name 'spark' is not defined",
     "output_type": "error",
     "traceback": [
      "\u001b[0;31m---------------------------------------------------------------------------\u001b[0m",
      "\u001b[0;31mNameError\u001b[0m                                 Traceback (most recent call last)",
      "\u001b[0;32m/tmp/ipykernel_4493/1371203907.py\u001b[0m in \u001b[0;36m<module>\u001b[0;34m\u001b[0m\n\u001b[1;32m      1\u001b[0m \u001b[0;31m# Set the database for standard EPC data\u001b[0m\u001b[0;34m\u001b[0m\u001b[0;34m\u001b[0m\u001b[0;34m\u001b[0m\u001b[0m\n\u001b[0;32m----> 2\u001b[0;31m \u001b[0mspark\u001b[0m\u001b[0;34m.\u001b[0m\u001b[0msql\u001b[0m\u001b[0;34m(\u001b[0m\u001b[0;34m\"USE ids\"\u001b[0m\u001b[0;34m)\u001b[0m\u001b[0;34m\u001b[0m\u001b[0;34m\u001b[0m\u001b[0m\n\u001b[0m\u001b[1;32m      3\u001b[0m \u001b[0;34m\u001b[0m\u001b[0m\n\u001b[1;32m      4\u001b[0m \u001b[0;31m# Reading EPC Data (without UPRN)\u001b[0m\u001b[0;34m\u001b[0m\u001b[0;34m\u001b[0m\u001b[0;34m\u001b[0m\u001b[0m\n\u001b[1;32m      5\u001b[0m \u001b[0mepc_std\u001b[0m \u001b[0;34m=\u001b[0m \u001b[0mspark\u001b[0m\u001b[0;34m.\u001b[0m\u001b[0mread\u001b[0m\u001b[0;34m.\u001b[0m\u001b[0mtable\u001b[0m\u001b[0;34m(\u001b[0m\u001b[0;34m\"bv_epc\"\u001b[0m\u001b[0;34m)\u001b[0m\u001b[0;34m\u001b[0m\u001b[0;34m\u001b[0m\u001b[0m\n",
      "\u001b[0;31mNameError\u001b[0m: name 'spark' is not defined"
     ]
    }
   ],
   "source": [
    "# Set the database for standard EPC data\n",
    "import numpy as np\n",
    "import pandas as pd\n",
    "import os\n",
    "import glob\n",
    "\n",
    "\n",
    "## Setting the directory where the data is\n",
    "os.chdir ('Z:\\Housing Analysis/Dwelling Stock Estimates/2012 to 2018/Raw Data')\n"
   ]
  },
  {
   "cell_type": "code",
   "execution_count": null,
   "id": "26ab152e-918e-4ea8-a461-7bd2ade2fd51",
   "metadata": {},
   "outputs": [],
   "source": []
  },
  {
   "cell_type": "code",
   "execution_count": 52,
   "id": "38e3750d-2453-4c2e-b627-743b8ceabbd5",
   "metadata": {},
   "outputs": [
    {
     "ename": "SyntaxError",
     "evalue": "invalid syntax (1443534963.py, line 1)",
     "output_type": "error",
     "traceback": [
      "\u001b[0;36m  File \u001b[0;32m\"/tmp/ipykernel_4493/1443534963.py\"\u001b[0;36m, line \u001b[0;32m1\u001b[0m\n\u001b[0;31m    epc_std <- http://localhost:9090/denodo-odata4-service/denodo-odata.svc/ids/bv_epc\u001b[0m\n\u001b[0m                     ^\u001b[0m\n\u001b[0;31mSyntaxError\u001b[0m\u001b[0;31m:\u001b[0m invalid syntax\n"
     ]
    }
   ],
   "source": [
    "epc_std <- http://localhost:9090/denodo-odata4-service/denodo-odata.svc/ids/bv_epc"
   ]
  },
  {
   "cell_type": "code",
   "execution_count": null,
   "id": "63fa812b-c9cd-40c3-a444-7089321ecae9",
   "metadata": {},
   "outputs": [],
   "source": [
    "nsul = spark.sql(\"SELECT * FROM national_statistics_uprn_lookup.nsul_jan_2022_gb_std\")\n",
    "                   \n",
    "df1"
   ]
  },
  {
   "cell_type": "code",
   "execution_count": null,
   "id": "b9f1293e-a702-4582-8917-4f3fdfb0acbf",
   "metadata": {},
   "outputs": [],
   "source": [
    "#### Close the connection at the end of your session,  passing in the conn onject:\n",
    "from idpData import idpDataDisconnect\n",
    "\n",
    "idpDataDisconnect(conn)\n"
   ]
  }
 ],
 "metadata": {
  "environment": {
   "kernel": "python3",
   "name": "common-cpu.m91",
   "type": "gcloud",
   "uri": "gcr.io/deeplearning-platform-release/base-cpu:m91"
  },
  "kernelspec": {
   "display_name": "Python 3",
   "language": "python",
   "name": "python3"
  },
  "language_info": {
   "codemirror_mode": {
    "name": "ipython",
    "version": 3
   },
   "file_extension": ".py",
   "mimetype": "text/x-python",
   "name": "python",
   "nbconvert_exporter": "python",
   "pygments_lexer": "ipython3",
   "version": "3.7.12"
  }
 },
 "nbformat": 4,
 "nbformat_minor": 5
}
